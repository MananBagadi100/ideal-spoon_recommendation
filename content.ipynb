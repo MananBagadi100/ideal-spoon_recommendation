{
 "cells": [
  {
   "cell_type": "code",
   "execution_count": 55,
   "metadata": {},
   "outputs": [
    {
     "data": {
      "text/html": [
       "<div>\n",
       "<style scoped>\n",
       "    .dataframe tbody tr th:only-of-type {\n",
       "        vertical-align: middle;\n",
       "    }\n",
       "\n",
       "    .dataframe tbody tr th {\n",
       "        vertical-align: top;\n",
       "    }\n",
       "\n",
       "    .dataframe thead th {\n",
       "        text-align: right;\n",
       "    }\n",
       "</style>\n",
       "<table border=\"1\" class=\"dataframe\">\n",
       "  <thead>\n",
       "    <tr style=\"text-align: right;\">\n",
       "      <th></th>\n",
       "      <th>id</th>\n",
       "      <th>asins</th>\n",
       "      <th>brand</th>\n",
       "      <th>categories</th>\n",
       "      <th>colors</th>\n",
       "      <th>dateAdded</th>\n",
       "      <th>dateUpdated</th>\n",
       "      <th>dimension</th>\n",
       "      <th>ean</th>\n",
       "      <th>keys</th>\n",
       "      <th>...</th>\n",
       "      <th>reviews.rating</th>\n",
       "      <th>reviews.sourceURLs</th>\n",
       "      <th>reviews.text</th>\n",
       "      <th>reviews.title</th>\n",
       "      <th>reviews.userCity</th>\n",
       "      <th>reviews.userProvince</th>\n",
       "      <th>reviews.username</th>\n",
       "      <th>sizes</th>\n",
       "      <th>upc</th>\n",
       "      <th>weight</th>\n",
       "    </tr>\n",
       "  </thead>\n",
       "  <tbody>\n",
       "    <tr>\n",
       "      <th>0</th>\n",
       "      <td>AVpe7AsMilAPnD_xQ78G</td>\n",
       "      <td>B00QJDU3KY</td>\n",
       "      <td>Amazon</td>\n",
       "      <td>Amazon Devices,mazon.co.uk</td>\n",
       "      <td>NaN</td>\n",
       "      <td>2016-03-08T20:21:53Z</td>\n",
       "      <td>2017-07-18T23:52:58Z</td>\n",
       "      <td>169 mm x 117 mm x 9.1 mm</td>\n",
       "      <td>NaN</td>\n",
       "      <td>kindlepaperwhite/b00qjdu3ky</td>\n",
       "      <td>...</td>\n",
       "      <td>5.0</td>\n",
       "      <td>https://www.amazon.com/Kindle-Paperwhite-High-...</td>\n",
       "      <td>I initially had trouble deciding between the p...</td>\n",
       "      <td>Paperwhite voyage, no regrets!</td>\n",
       "      <td>NaN</td>\n",
       "      <td>NaN</td>\n",
       "      <td>Cristina M</td>\n",
       "      <td>NaN</td>\n",
       "      <td>NaN</td>\n",
       "      <td>205 grams</td>\n",
       "    </tr>\n",
       "    <tr>\n",
       "      <th>1</th>\n",
       "      <td>AVpe7AsMilAPnD_xQ78G</td>\n",
       "      <td>B00QJDU3KY</td>\n",
       "      <td>Amazon</td>\n",
       "      <td>Amazon Devices,mazon.co.uk</td>\n",
       "      <td>NaN</td>\n",
       "      <td>2016-03-08T20:21:53Z</td>\n",
       "      <td>2017-07-18T23:52:58Z</td>\n",
       "      <td>169 mm x 117 mm x 9.1 mm</td>\n",
       "      <td>NaN</td>\n",
       "      <td>kindlepaperwhite/b00qjdu3ky</td>\n",
       "      <td>...</td>\n",
       "      <td>5.0</td>\n",
       "      <td>https://www.amazon.com/Kindle-Paperwhite-High-...</td>\n",
       "      <td>Allow me to preface this with a little history...</td>\n",
       "      <td>One Simply Could Not Ask For More</td>\n",
       "      <td>NaN</td>\n",
       "      <td>NaN</td>\n",
       "      <td>Ricky</td>\n",
       "      <td>NaN</td>\n",
       "      <td>NaN</td>\n",
       "      <td>205 grams</td>\n",
       "    </tr>\n",
       "    <tr>\n",
       "      <th>2</th>\n",
       "      <td>AVpe7AsMilAPnD_xQ78G</td>\n",
       "      <td>B00QJDU3KY</td>\n",
       "      <td>Amazon</td>\n",
       "      <td>Amazon Devices,mazon.co.uk</td>\n",
       "      <td>NaN</td>\n",
       "      <td>2016-03-08T20:21:53Z</td>\n",
       "      <td>2017-07-18T23:52:58Z</td>\n",
       "      <td>169 mm x 117 mm x 9.1 mm</td>\n",
       "      <td>NaN</td>\n",
       "      <td>kindlepaperwhite/b00qjdu3ky</td>\n",
       "      <td>...</td>\n",
       "      <td>4.0</td>\n",
       "      <td>https://www.amazon.com/Kindle-Paperwhite-High-...</td>\n",
       "      <td>I am enjoying it so far. Great for reading. Ha...</td>\n",
       "      <td>Great for those that just want an e-reader</td>\n",
       "      <td>NaN</td>\n",
       "      <td>NaN</td>\n",
       "      <td>Tedd Gardiner</td>\n",
       "      <td>NaN</td>\n",
       "      <td>NaN</td>\n",
       "      <td>205 grams</td>\n",
       "    </tr>\n",
       "  </tbody>\n",
       "</table>\n",
       "<p>3 rows × 27 columns</p>\n",
       "</div>"
      ],
      "text/plain": [
       "                     id       asins   brand                  categories  \\\n",
       "0  AVpe7AsMilAPnD_xQ78G  B00QJDU3KY  Amazon  Amazon Devices,mazon.co.uk   \n",
       "1  AVpe7AsMilAPnD_xQ78G  B00QJDU3KY  Amazon  Amazon Devices,mazon.co.uk   \n",
       "2  AVpe7AsMilAPnD_xQ78G  B00QJDU3KY  Amazon  Amazon Devices,mazon.co.uk   \n",
       "\n",
       "  colors             dateAdded           dateUpdated  \\\n",
       "0    NaN  2016-03-08T20:21:53Z  2017-07-18T23:52:58Z   \n",
       "1    NaN  2016-03-08T20:21:53Z  2017-07-18T23:52:58Z   \n",
       "2    NaN  2016-03-08T20:21:53Z  2017-07-18T23:52:58Z   \n",
       "\n",
       "                  dimension  ean                         keys  ...  \\\n",
       "0  169 mm x 117 mm x 9.1 mm  NaN  kindlepaperwhite/b00qjdu3ky  ...   \n",
       "1  169 mm x 117 mm x 9.1 mm  NaN  kindlepaperwhite/b00qjdu3ky  ...   \n",
       "2  169 mm x 117 mm x 9.1 mm  NaN  kindlepaperwhite/b00qjdu3ky  ...   \n",
       "\n",
       "  reviews.rating                                 reviews.sourceURLs  \\\n",
       "0            5.0  https://www.amazon.com/Kindle-Paperwhite-High-...   \n",
       "1            5.0  https://www.amazon.com/Kindle-Paperwhite-High-...   \n",
       "2            4.0  https://www.amazon.com/Kindle-Paperwhite-High-...   \n",
       "\n",
       "                                        reviews.text  \\\n",
       "0  I initially had trouble deciding between the p...   \n",
       "1  Allow me to preface this with a little history...   \n",
       "2  I am enjoying it so far. Great for reading. Ha...   \n",
       "\n",
       "                                reviews.title reviews.userCity  \\\n",
       "0              Paperwhite voyage, no regrets!              NaN   \n",
       "1           One Simply Could Not Ask For More              NaN   \n",
       "2  Great for those that just want an e-reader              NaN   \n",
       "\n",
       "  reviews.userProvince  reviews.username  sizes upc     weight  \n",
       "0                  NaN        Cristina M    NaN NaN  205 grams  \n",
       "1                  NaN             Ricky    NaN NaN  205 grams  \n",
       "2                  NaN     Tedd Gardiner    NaN NaN  205 grams  \n",
       "\n",
       "[3 rows x 27 columns]"
      ]
     },
     "execution_count": 55,
     "metadata": {},
     "output_type": "execute_result"
    }
   ],
   "source": [
    "import pandas as pd\n",
    "import numpy as np \n",
    "from sklearn.preprocessing import StandardScaler\n",
    "import seaborn as sns\n",
    "import matplotlib.pyplot as plt\n",
    "import re\n",
    "from sklearn.feature_extraction.text import TfidfVectorizer\n",
    "from sklearn.metrics.pairwise import cosine_similarity\n",
    "from sklearn.impute import SimpleImputer\n",
    "from sklearn.decomposition import TruncatedSVD\n",
    "from surprise import Dataset, Reader, SVD\n",
    "from surprise.model_selection import train_test_split\n",
    "#This is the surprise library Randomized Search CV\n",
    "from surprise.model_selection.search import RandomizedSearchCV \n",
    "from surprise import accuracy\n",
    "from surprise import KNNBasic\n",
    "from sklearn.ensemble import RandomForestClassifier\n",
    "from surprise.model_selection import KFold\n",
    "df=pd.read_csv('7817_1.csv')\n",
    "df.head(3)"
   ]
  },
  {
   "cell_type": "code",
   "execution_count": 56,
   "metadata": {},
   "outputs": [
    {
     "name": "stdout",
     "output_type": "stream",
     "text": [
      "reviews.rating\n",
      "5.0    741\n",
      "4.0    236\n",
      "3.0    124\n",
      "1.0     42\n",
      "2.0     34\n",
      "Name: count, dtype: int64\n"
     ]
    }
   ],
   "source": [
    "print(df['reviews.rating'].value_counts())"
   ]
  },
  {
   "cell_type": "code",
   "execution_count": 57,
   "metadata": {},
   "outputs": [
    {
     "data": {
      "text/plain": [
       "id                         0\n",
       "asins                      0\n",
       "brand                      0\n",
       "categories                 0\n",
       "colors                   823\n",
       "dateAdded                  0\n",
       "dateUpdated                0\n",
       "dimension               1032\n",
       "ean                      699\n",
       "keys                       0\n",
       "manufacturer             632\n",
       "manufacturerNumber       695\n",
       "name                       0\n",
       "prices                     0\n",
       "reviews.date             380\n",
       "reviews.doRecommend     1058\n",
       "reviews.numHelpful       697\n",
       "reviews.rating           420\n",
       "reviews.sourceURLs         0\n",
       "reviews.text               0\n",
       "reviews.title             17\n",
       "reviews.userCity        1597\n",
       "reviews.userProvince    1597\n",
       "reviews.username          17\n",
       "sizes                   1597\n",
       "upc                      699\n",
       "weight                   911\n",
       "dtype: int64"
      ]
     },
     "execution_count": 57,
     "metadata": {},
     "output_type": "execute_result"
    }
   ],
   "source": [
    "df.isnull().sum()"
   ]
  },
  {
   "cell_type": "code",
   "execution_count": 58,
   "metadata": {},
   "outputs": [
    {
     "data": {
      "text/plain": [
       "(1597, 27)"
      ]
     },
     "execution_count": 58,
     "metadata": {},
     "output_type": "execute_result"
    }
   ],
   "source": [
    "df.shape"
   ]
  },
  {
   "cell_type": "code",
   "execution_count": 59,
   "metadata": {},
   "outputs": [],
   "source": [
    "#using regex to remove all the special charecters\n",
    "#lamba performs the respective operation on each row\n",
    "#apply performs it on the entire column\n",
    "df['reviews.text']=df['reviews.text'].apply(lambda x: re.sub(r'[^a-zA-Z\\s]', '',x))"
   ]
  },
  {
   "cell_type": "code",
   "execution_count": 60,
   "metadata": {},
   "outputs": [
    {
     "data": {
      "text/plain": [
       "0    i initially had trouble deciding between the p...\n",
       "1    allow me to preface this with a little history...\n",
       "2    i am enjoying it so far great for reading had ...\n",
       "3    i bought one of the first paperwhites and have...\n",
       "4    i have to say upfront  i dont like coroporate ...\n",
       "5    my previous kindle was a dx this is my second ...\n",
       "6    allow me to preface this with a little history...\n",
       "7    just got mine right now looks the same as the ...\n",
       "8    i initially had trouble deciding between the p...\n",
       "9    i am enjoying it so far great for reading had ...\n",
       "Name: reviews.text, dtype: object"
      ]
     },
     "execution_count": 60,
     "metadata": {},
     "output_type": "execute_result"
    }
   ],
   "source": [
    "#now we are coverting all the reviews into lowercase for easy analysis\n",
    "# str.lower affects the whole column and is also faster when compared to lambda functions\n",
    "df['reviews.text']=df['reviews.text'].str.lower()\n",
    "df['reviews.text'].head(10)"
   ]
  },
  {
   "cell_type": "code",
   "execution_count": 61,
   "metadata": {},
   "outputs": [
    {
     "name": "stdout",
     "output_type": "stream",
     "text": [
      "<Compressed Sparse Row sparse matrix of dtype 'float64'\n",
      "\twith 143268 stored elements and shape (1597, 7480)>\n",
      "  Coords\tValues\n",
      "  (0, 3345)\t0.09563030671363099\n",
      "  (0, 2905)\t0.08345633171946584\n",
      "  (0, 6805)\t0.09121597170669409\n",
      "  (0, 1584)\t0.09694742471749919\n",
      "  (0, 634)\t0.07483601346287423\n",
      "  (0, 6564)\t0.27110941536841765\n",
      "  (0, 4679)\t0.2597084099818659\n",
      "  (0, 262)\t0.14029627804639896\n",
      "  (0, 7113)\t0.08773884031347202\n",
      "  (0, 573)\t0.04470917898454384\n",
      "  (0, 5538)\t0.0561724831717947\n",
      "  (0, 4170)\t0.029665877531807102\n",
      "  (0, 4546)\t0.030394206127855983\n",
      "  (0, 3716)\t0.058518385560671994\n",
      "  (0, 5624)\t0.07556747568457363\n",
      "  (0, 5629)\t0.04938580679067498\n",
      "  (0, 6602)\t0.05167038694076653\n",
      "  (0, 3465)\t0.045200521503484005\n",
      "  (0, 2849)\t0.03373904225595677\n",
      "  (0, 868)\t0.05498893646691517\n",
      "  (0, 3212)\t0.10166066588402228\n",
      "  (0, 7444)\t0.08844912060184575\n",
      "  (0, 2966)\t0.08087836213982427\n",
      "  (0, 6140)\t0.10168128802659403\n",
      "  (0, 4158)\t0.07046381725108337\n",
      "  :\t:\n",
      "  (1596, 5041)\t0.09067004121467519\n",
      "  (1596, 1838)\t0.13036172959882\n",
      "  (1596, 7376)\t0.08721548523871543\n",
      "  (1596, 4166)\t0.11357506474838436\n",
      "  (1596, 7196)\t0.07449311458079458\n",
      "  (1596, 3101)\t0.18042092364219434\n",
      "  (1596, 7459)\t0.05133019913133467\n",
      "  (1596, 2548)\t0.10973569888206514\n",
      "  (1596, 2221)\t0.4438273608945905\n",
      "  (1596, 7351)\t0.13869252421332898\n",
      "  (1596, 871)\t0.08953695388079971\n",
      "  (1596, 4230)\t0.11024849645900894\n",
      "  (1596, 4549)\t0.09362602581663791\n",
      "  (1596, 5429)\t0.10874139816433834\n",
      "  (1596, 3484)\t0.1256243738057927\n",
      "  (1596, 5393)\t0.25310706669490224\n",
      "  (1596, 3851)\t0.11024849645900894\n",
      "  (1596, 6323)\t0.1456209849894459\n",
      "  (1596, 5408)\t0.12765529842345624\n",
      "  (1596, 1748)\t0.15662997997416087\n",
      "  (1596, 1462)\t0.16482542927298452\n",
      "  (1596, 6226)\t0.16038462580642815\n",
      "  (1596, 5764)\t0.17026053345726766\n",
      "  (1596, 6202)\t0.17026053345726766\n",
      "  (1596, 925)\t0.18714350909872202\n"
     ]
    }
   ],
   "source": [
    "#applying TDF-IF and storing the sparse matrix into a new variable\n",
    "#by default the TDF-IF is applied on the entire column\n",
    "#TF-IDF also expects whole sentences or documents as input\n",
    "vectorizer=TfidfVectorizer()\n",
    "df_tf_idf_matrix=vectorizer.fit_transform(df['reviews.text'])\n",
    "print(df_tf_idf_matrix)"
   ]
  },
  {
   "cell_type": "code",
   "execution_count": 62,
   "metadata": {},
   "outputs": [],
   "source": [
    "#using cosine similarity to find the co-relation between words\n",
    "cosine_sim_matrix=cosine_similarity(df_tf_idf_matrix)"
   ]
  },
  {
   "cell_type": "code",
   "execution_count": 63,
   "metadata": {},
   "outputs": [
    {
     "data": {
      "text/plain": [
       "array([[1.        , 0.22917487, 0.17843075, ..., 0.10461446, 0.10477761,\n",
       "        0.17136213],\n",
       "       [0.22917487, 1.        , 0.17368846, ..., 0.04460697, 0.12893309,\n",
       "        0.16984777],\n",
       "       [0.17843075, 0.17368846, 1.        , ..., 0.02644085, 0.05143964,\n",
       "        0.1072023 ],\n",
       "       ...,\n",
       "       [0.10461446, 0.04460697, 0.02644085, ..., 1.        , 0.11391033,\n",
       "        0.12805379],\n",
       "       [0.10477761, 0.12893309, 0.05143964, ..., 0.11391033, 1.        ,\n",
       "        0.15334813],\n",
       "       [0.17136213, 0.16984777, 0.1072023 , ..., 0.12805379, 0.15334813,\n",
       "        1.        ]])"
      ]
     },
     "execution_count": 63,
     "metadata": {},
     "output_type": "execute_result"
    }
   ],
   "source": [
    "cosine_sim_matrix"
   ]
  },
  {
   "cell_type": "code",
   "execution_count": 64,
   "metadata": {},
   "outputs": [
    {
     "data": {
      "text/plain": [
       "(1597, 1597)"
      ]
     },
     "execution_count": 64,
     "metadata": {},
     "output_type": "execute_result"
    }
   ],
   "source": [
    "cosine_sim_matrix.shape"
   ]
  },
  {
   "cell_type": "code",
   "execution_count": 65,
   "metadata": {},
   "outputs": [],
   "source": [
    "# Dropping columns that are not relevant or contain missing values\n",
    "columns_to_drop = [\n",
    "    'colors', 'dimension', 'ean', 'manufacturer', 'manufacturerNumber',\n",
    "    'sizes', 'upc', 'weight', 'reviews.date', 'reviews.doRecommend', \n",
    "    'reviews.numHelpful', 'reviews.rating', 'reviews.title', 'reviews.userCity', \n",
    "    'reviews.userProvince', 'reviews.username'\n",
    "]\n",
    "\n",
    "df_cleaned = df.drop(columns=columns_to_drop)\n"
   ]
  },
  {
   "cell_type": "code",
   "execution_count": 66,
   "metadata": {},
   "outputs": [
    {
     "name": "stdout",
     "output_type": "stream",
     "text": [
      "Index(['id', 'asins', 'brand', 'categories', 'dateAdded', 'dateUpdated',\n",
      "       'keys', 'name', 'prices', 'reviews.sourceURLs', 'reviews.text'],\n",
      "      dtype='object')\n"
     ]
    }
   ],
   "source": [
    "print(df_cleaned.columns)\n"
   ]
  },
  {
   "cell_type": "code",
   "execution_count": 67,
   "metadata": {},
   "outputs": [
    {
     "name": "stdout",
     "output_type": "stream",
     "text": [
      "id                    0\n",
      "asins                 0\n",
      "brand                 0\n",
      "categories            0\n",
      "dateAdded             0\n",
      "dateUpdated           0\n",
      "keys                  0\n",
      "name                  0\n",
      "prices                0\n",
      "reviews.sourceURLs    0\n",
      "reviews.text          0\n",
      "dtype: int64\n"
     ]
    }
   ],
   "source": [
    "print(df_cleaned.isnull().sum())"
   ]
  },
  {
   "cell_type": "code",
   "execution_count": 68,
   "metadata": {},
   "outputs": [],
   "source": [
    "#here we used the cosine similarity matrix rows as index without having an explicit index in\n",
    "#original table. this is the reason product ID is able to map to the correct row"
   ]
  },
  {
   "cell_type": "code",
   "execution_count": 69,
   "metadata": {},
   "outputs": [],
   "source": [
    "#function to get the top recommendations\n",
    "def get_top_recommendations(product_id, cosine_sim_matrix, N=5):\n",
    "    similarity_scores=cosine_sim_matrix[product_id]\n",
    "    #sorting the scores based on descending order\n",
    "    #remember to even keep track of the indices of the scores to get the similar products\n",
    "    #np.argsort() returns the indices of the sorted array elements\n",
    "    similar_indices=np.argsort(similarity_scores)[::-1]\n",
    "    #removing the product itself\n",
    "    #it creates a boolean array removing all the false (elements which do not satisfy the condition)\n",
    "    similar_indices=similar_indices[similar_indices != product_id]\n",
    "    #get the indices\n",
    "    top_indices=similar_indices[:N]\n",
    "    #return the top N recommendations and their similarity scores\n",
    "    return [(index, similarity_scores[index]) for index in top_indices]\n"
   ]
  },
  {
   "cell_type": "code",
   "execution_count": 70,
   "metadata": {},
   "outputs": [
    {
     "name": "stdout",
     "output_type": "stream",
     "text": [
      "Product : 781 \t Similarity Score : 0.19805442570581022\n",
      "Product : 275 \t Similarity Score : 0.1893546843401649\n",
      "Product : 27 \t Similarity Score : 0.18772430371075927\n",
      "Product : 37 \t Similarity Score : 0.1857040218538256\n",
      "Product : 851 \t Similarity Score : 0.18431607615117093\n"
     ]
    }
   ],
   "source": [
    "#calling the above function to give recommendations\n",
    "a=int(input('Enter the product ID'))\n",
    "n=5\n",
    "model_recommendations=get_top_recommendations(a-1,cosine_sim_matrix,n)\n",
    "#printing the recommendation\n",
    "for idx,score in model_recommendations:\n",
    "    print(f'Product : {idx} \\t Similarity Score : {score}')"
   ]
  },
  {
   "cell_type": "code",
   "execution_count": 71,
   "metadata": {},
   "outputs": [
    {
     "data": {
      "text/plain": [
       "id                       object\n",
       "asins                    object\n",
       "brand                    object\n",
       "categories               object\n",
       "colors                   object\n",
       "dateAdded                object\n",
       "dateUpdated              object\n",
       "dimension                object\n",
       "ean                     float64\n",
       "keys                     object\n",
       "manufacturer             object\n",
       "manufacturerNumber       object\n",
       "name                     object\n",
       "prices                   object\n",
       "reviews.date             object\n",
       "reviews.doRecommend      object\n",
       "reviews.numHelpful      float64\n",
       "reviews.rating          float64\n",
       "reviews.sourceURLs       object\n",
       "reviews.text             object\n",
       "reviews.title            object\n",
       "reviews.userCity        float64\n",
       "reviews.userProvince    float64\n",
       "reviews.username         object\n",
       "sizes                   float64\n",
       "upc                     float64\n",
       "weight                   object\n",
       "dtype: object"
      ]
     },
     "execution_count": 71,
     "metadata": {},
     "output_type": "execute_result"
    }
   ],
   "source": [
    "df.dtypes"
   ]
  },
  {
   "cell_type": "code",
   "execution_count": 72,
   "metadata": {},
   "outputs": [
    {
     "data": {
      "text/plain": [
       "id\n",
       "AVpfpK8KLJeJML43BCuD    542\n",
       "AVpfLiCSilAPnD_xWpk_    166\n",
       "AVpge-anilAPnD_xtDVf    133\n",
       "AVpjWh8e1cnluZ0-Vy0O     87\n",
       "AVpe7LD5LJeJML43ybWA     70\n",
       "                       ... \n",
       "AVphEeRyilAPnD_x035P      3\n",
       "AV1T1nRwvKc47QAVgf3I      3\n",
       "AVpg4dIu1cnluZ0-7fWM      3\n",
       "AV1T19jBvKc47QAVgf3S      3\n",
       "AV1T0_ti-jtxr-f31CoV      3\n",
       "Name: count, Length: 66, dtype: int64"
      ]
     },
     "execution_count": 72,
     "metadata": {},
     "output_type": "execute_result"
    }
   ],
   "source": [
    "#do not fill the missing values as it is critical for making recommendations\n",
    "#because it could lead to distortion of user patterns\n",
    "df['id'].value_counts()"
   ]
  },
  {
   "cell_type": "code",
   "execution_count": 73,
   "metadata": {},
   "outputs": [],
   "source": [
    "#here we are removing the null value rows which do not have a username\n",
    "df.dropna(axis=0, subset=['reviews.username'], how='any', inplace=True)\n"
   ]
  },
  {
   "cell_type": "code",
   "execution_count": 74,
   "metadata": {},
   "outputs": [
    {
     "data": {
      "text/plain": [
       "0"
      ]
     },
     "execution_count": 74,
     "metadata": {},
     "output_type": "execute_result"
    }
   ],
   "source": [
    "#checking if null values are removed\n",
    "df['reviews.username'].isnull().sum()"
   ]
  },
  {
   "cell_type": "code",
   "execution_count": 75,
   "metadata": {},
   "outputs": [
    {
     "name": "stdout",
     "output_type": "stream",
     "text": [
      "     reviews.username  user_id\n",
      "0          Cristina M        1\n",
      "1               Ricky        2\n",
      "2       Tedd Gardiner        3\n",
      "3              Dougal        4\n",
      "4  Miljan David Tanic        5\n"
     ]
    }
   ],
   "source": [
    "#here factorize function assigns a unique integer to each user \n",
    "#multiple rows assigned same id as the same user has done multiple reviews\n",
    "#here we are assigning one unique integer for each customer\n",
    "#here we are indexing from 1, so it will be User 1,2,3,4,....\n",
    "df['user_id']=df['reviews.username'].factorize()[0]+1\n",
    "print(df[['reviews.username','user_id']].head())\n"
   ]
  },
  {
   "cell_type": "code",
   "execution_count": 76,
   "metadata": {},
   "outputs": [
    {
     "name": "stdout",
     "output_type": "stream",
     "text": [
      "   product_id  user_id\n",
      "0           1        1\n",
      "1           1        2\n",
      "2           1        3\n",
      "3           1        4\n",
      "4           1        5\n"
     ]
    }
   ],
   "source": [
    "#same we are doing same for the products\n",
    "df['product_id']=df['asins'].factorize()[0]+1\n",
    "print(df[['product_id','user_id']].head(5))\n"
   ]
  },
  {
   "cell_type": "code",
   "execution_count": 77,
   "metadata": {},
   "outputs": [
    {
     "data": {
      "text/plain": [
       "user_id\n",
       "921    59\n",
       "38     58\n",
       "923    43\n",
       "924    30\n",
       "335    29\n",
       "       ..\n",
       "370     1\n",
       "371     1\n",
       "372     1\n",
       "373     1\n",
       "949     1\n",
       "Name: count, Length: 949, dtype: int64"
      ]
     },
     "execution_count": 77,
     "metadata": {},
     "output_type": "execute_result"
    }
   ],
   "source": [
    "df['user_id'].value_counts()"
   ]
  },
  {
   "cell_type": "code",
   "execution_count": 78,
   "metadata": {},
   "outputs": [
    {
     "data": {
      "text/plain": [
       "product_id\n",
       "48    542\n",
       "27    166\n",
       "52    133\n",
       "34     87\n",
       "4      56\n",
       "47     53\n",
       "6      43\n",
       "40     41\n",
       "3      38\n",
       "2      32\n",
       "28     27\n",
       "1      23\n",
       "51     22\n",
       "18     22\n",
       "29     20\n",
       "7      18\n",
       "30     18\n",
       "53     17\n",
       "5      15\n",
       "32     13\n",
       "43     13\n",
       "54     12\n",
       "41     12\n",
       "49     12\n",
       "35     12\n",
       "45      9\n",
       "16      8\n",
       "15      7\n",
       "50      7\n",
       "17      7\n",
       "26      6\n",
       "38      6\n",
       "9       6\n",
       "24      6\n",
       "39      5\n",
       "33      5\n",
       "8       4\n",
       "12      4\n",
       "23      4\n",
       "14      4\n",
       "46      4\n",
       "37      4\n",
       "42      4\n",
       "13      3\n",
       "44      3\n",
       "36      3\n",
       "31      3\n",
       "11      3\n",
       "25      3\n",
       "22      3\n",
       "21      3\n",
       "20      3\n",
       "19      3\n",
       "10      3\n",
       "Name: count, dtype: int64"
      ]
     },
     "execution_count": 78,
     "metadata": {},
     "output_type": "execute_result"
    }
   ],
   "source": [
    "#number of reviews each \n",
    "df['product_id'].value_counts()"
   ]
  },
  {
   "cell_type": "code",
   "execution_count": 79,
   "metadata": {},
   "outputs": [
    {
     "data": {
      "text/html": [
       "<div>\n",
       "<style scoped>\n",
       "    .dataframe tbody tr th:only-of-type {\n",
       "        vertical-align: middle;\n",
       "    }\n",
       "\n",
       "    .dataframe tbody tr th {\n",
       "        vertical-align: top;\n",
       "    }\n",
       "\n",
       "    .dataframe thead th {\n",
       "        text-align: right;\n",
       "    }\n",
       "</style>\n",
       "<table border=\"1\" class=\"dataframe\">\n",
       "  <thead>\n",
       "    <tr style=\"text-align: right;\">\n",
       "      <th></th>\n",
       "      <th>id</th>\n",
       "      <th>asins</th>\n",
       "      <th>brand</th>\n",
       "      <th>categories</th>\n",
       "      <th>colors</th>\n",
       "      <th>dateAdded</th>\n",
       "      <th>dateUpdated</th>\n",
       "      <th>dimension</th>\n",
       "      <th>ean</th>\n",
       "      <th>keys</th>\n",
       "      <th>...</th>\n",
       "      <th>reviews.text</th>\n",
       "      <th>reviews.title</th>\n",
       "      <th>reviews.userCity</th>\n",
       "      <th>reviews.userProvince</th>\n",
       "      <th>reviews.username</th>\n",
       "      <th>sizes</th>\n",
       "      <th>upc</th>\n",
       "      <th>weight</th>\n",
       "      <th>user_id</th>\n",
       "      <th>product_id</th>\n",
       "    </tr>\n",
       "  </thead>\n",
       "  <tbody>\n",
       "    <tr>\n",
       "      <th>0</th>\n",
       "      <td>AVpe7AsMilAPnD_xQ78G</td>\n",
       "      <td>B00QJDU3KY</td>\n",
       "      <td>Amazon</td>\n",
       "      <td>Amazon Devices,mazon.co.uk</td>\n",
       "      <td>NaN</td>\n",
       "      <td>2016-03-08T20:21:53Z</td>\n",
       "      <td>2017-07-18T23:52:58Z</td>\n",
       "      <td>169 mm x 117 mm x 9.1 mm</td>\n",
       "      <td>NaN</td>\n",
       "      <td>kindlepaperwhite/b00qjdu3ky</td>\n",
       "      <td>...</td>\n",
       "      <td>i initially had trouble deciding between the p...</td>\n",
       "      <td>Paperwhite voyage, no regrets!</td>\n",
       "      <td>NaN</td>\n",
       "      <td>NaN</td>\n",
       "      <td>Cristina M</td>\n",
       "      <td>NaN</td>\n",
       "      <td>NaN</td>\n",
       "      <td>205 grams</td>\n",
       "      <td>1</td>\n",
       "      <td>1</td>\n",
       "    </tr>\n",
       "    <tr>\n",
       "      <th>1</th>\n",
       "      <td>AVpe7AsMilAPnD_xQ78G</td>\n",
       "      <td>B00QJDU3KY</td>\n",
       "      <td>Amazon</td>\n",
       "      <td>Amazon Devices,mazon.co.uk</td>\n",
       "      <td>NaN</td>\n",
       "      <td>2016-03-08T20:21:53Z</td>\n",
       "      <td>2017-07-18T23:52:58Z</td>\n",
       "      <td>169 mm x 117 mm x 9.1 mm</td>\n",
       "      <td>NaN</td>\n",
       "      <td>kindlepaperwhite/b00qjdu3ky</td>\n",
       "      <td>...</td>\n",
       "      <td>allow me to preface this with a little history...</td>\n",
       "      <td>One Simply Could Not Ask For More</td>\n",
       "      <td>NaN</td>\n",
       "      <td>NaN</td>\n",
       "      <td>Ricky</td>\n",
       "      <td>NaN</td>\n",
       "      <td>NaN</td>\n",
       "      <td>205 grams</td>\n",
       "      <td>2</td>\n",
       "      <td>1</td>\n",
       "    </tr>\n",
       "    <tr>\n",
       "      <th>2</th>\n",
       "      <td>AVpe7AsMilAPnD_xQ78G</td>\n",
       "      <td>B00QJDU3KY</td>\n",
       "      <td>Amazon</td>\n",
       "      <td>Amazon Devices,mazon.co.uk</td>\n",
       "      <td>NaN</td>\n",
       "      <td>2016-03-08T20:21:53Z</td>\n",
       "      <td>2017-07-18T23:52:58Z</td>\n",
       "      <td>169 mm x 117 mm x 9.1 mm</td>\n",
       "      <td>NaN</td>\n",
       "      <td>kindlepaperwhite/b00qjdu3ky</td>\n",
       "      <td>...</td>\n",
       "      <td>i am enjoying it so far great for reading had ...</td>\n",
       "      <td>Great for those that just want an e-reader</td>\n",
       "      <td>NaN</td>\n",
       "      <td>NaN</td>\n",
       "      <td>Tedd Gardiner</td>\n",
       "      <td>NaN</td>\n",
       "      <td>NaN</td>\n",
       "      <td>205 grams</td>\n",
       "      <td>3</td>\n",
       "      <td>1</td>\n",
       "    </tr>\n",
       "    <tr>\n",
       "      <th>3</th>\n",
       "      <td>AVpe7AsMilAPnD_xQ78G</td>\n",
       "      <td>B00QJDU3KY</td>\n",
       "      <td>Amazon</td>\n",
       "      <td>Amazon Devices,mazon.co.uk</td>\n",
       "      <td>NaN</td>\n",
       "      <td>2016-03-08T20:21:53Z</td>\n",
       "      <td>2017-07-18T23:52:58Z</td>\n",
       "      <td>169 mm x 117 mm x 9.1 mm</td>\n",
       "      <td>NaN</td>\n",
       "      <td>kindlepaperwhite/b00qjdu3ky</td>\n",
       "      <td>...</td>\n",
       "      <td>i bought one of the first paperwhites and have...</td>\n",
       "      <td>Love / Hate relationship</td>\n",
       "      <td>NaN</td>\n",
       "      <td>NaN</td>\n",
       "      <td>Dougal</td>\n",
       "      <td>NaN</td>\n",
       "      <td>NaN</td>\n",
       "      <td>205 grams</td>\n",
       "      <td>4</td>\n",
       "      <td>1</td>\n",
       "    </tr>\n",
       "    <tr>\n",
       "      <th>4</th>\n",
       "      <td>AVpe7AsMilAPnD_xQ78G</td>\n",
       "      <td>B00QJDU3KY</td>\n",
       "      <td>Amazon</td>\n",
       "      <td>Amazon Devices,mazon.co.uk</td>\n",
       "      <td>NaN</td>\n",
       "      <td>2016-03-08T20:21:53Z</td>\n",
       "      <td>2017-07-18T23:52:58Z</td>\n",
       "      <td>169 mm x 117 mm x 9.1 mm</td>\n",
       "      <td>NaN</td>\n",
       "      <td>kindlepaperwhite/b00qjdu3ky</td>\n",
       "      <td>...</td>\n",
       "      <td>i have to say upfront  i dont like coroporate ...</td>\n",
       "      <td>I LOVE IT</td>\n",
       "      <td>NaN</td>\n",
       "      <td>NaN</td>\n",
       "      <td>Miljan David Tanic</td>\n",
       "      <td>NaN</td>\n",
       "      <td>NaN</td>\n",
       "      <td>205 grams</td>\n",
       "      <td>5</td>\n",
       "      <td>1</td>\n",
       "    </tr>\n",
       "    <tr>\n",
       "      <th>...</th>\n",
       "      <td>...</td>\n",
       "      <td>...</td>\n",
       "      <td>...</td>\n",
       "      <td>...</td>\n",
       "      <td>...</td>\n",
       "      <td>...</td>\n",
       "      <td>...</td>\n",
       "      <td>...</td>\n",
       "      <td>...</td>\n",
       "      <td>...</td>\n",
       "      <td>...</td>\n",
       "      <td>...</td>\n",
       "      <td>...</td>\n",
       "      <td>...</td>\n",
       "      <td>...</td>\n",
       "      <td>...</td>\n",
       "      <td>...</td>\n",
       "      <td>...</td>\n",
       "      <td>...</td>\n",
       "      <td>...</td>\n",
       "      <td>...</td>\n",
       "    </tr>\n",
       "    <tr>\n",
       "      <th>1592</th>\n",
       "      <td>AVpfo9ukilAPnD_xfhuj</td>\n",
       "      <td>B00NO8JJZW</td>\n",
       "      <td>Amazon</td>\n",
       "      <td>Amazon Devices &amp; Accessories,Amazon Device Acc...</td>\n",
       "      <td>NaN</td>\n",
       "      <td>2016-04-02T14:40:43Z</td>\n",
       "      <td>2017-08-13T08:28:46Z</td>\n",
       "      <td>NaN</td>\n",
       "      <td>NaN</td>\n",
       "      <td>alexavoiceremoteforamazonfiretvfiretvstick/b00...</td>\n",
       "      <td>...</td>\n",
       "      <td>this is not the same remote that i got for my ...</td>\n",
       "      <td>I would be disappointed with myself if i produ...</td>\n",
       "      <td>NaN</td>\n",
       "      <td>NaN</td>\n",
       "      <td>GregAmandawith4</td>\n",
       "      <td>NaN</td>\n",
       "      <td>NaN</td>\n",
       "      <td>4 ounces</td>\n",
       "      <td>947</td>\n",
       "      <td>54</td>\n",
       "    </tr>\n",
       "    <tr>\n",
       "      <th>1593</th>\n",
       "      <td>AVpfo9ukilAPnD_xfhuj</td>\n",
       "      <td>B00NO8JJZW</td>\n",
       "      <td>Amazon</td>\n",
       "      <td>Amazon Devices &amp; Accessories,Amazon Device Acc...</td>\n",
       "      <td>NaN</td>\n",
       "      <td>2016-04-02T14:40:43Z</td>\n",
       "      <td>2017-08-13T08:28:46Z</td>\n",
       "      <td>NaN</td>\n",
       "      <td>NaN</td>\n",
       "      <td>alexavoiceremoteforamazonfiretvfiretvstick/b00...</td>\n",
       "      <td>...</td>\n",
       "      <td>i have had to change the batteries in this rem...</td>\n",
       "      <td>Battery draining remote!!!!</td>\n",
       "      <td>NaN</td>\n",
       "      <td>NaN</td>\n",
       "      <td>Amazon Customer</td>\n",
       "      <td>NaN</td>\n",
       "      <td>NaN</td>\n",
       "      <td>4 ounces</td>\n",
       "      <td>55</td>\n",
       "      <td>54</td>\n",
       "    </tr>\n",
       "    <tr>\n",
       "      <th>1594</th>\n",
       "      <td>AVpfo9ukilAPnD_xfhuj</td>\n",
       "      <td>B00NO8JJZW</td>\n",
       "      <td>Amazon</td>\n",
       "      <td>Amazon Devices &amp; Accessories,Amazon Device Acc...</td>\n",
       "      <td>NaN</td>\n",
       "      <td>2016-04-02T14:40:43Z</td>\n",
       "      <td>2017-08-13T08:28:46Z</td>\n",
       "      <td>NaN</td>\n",
       "      <td>NaN</td>\n",
       "      <td>alexavoiceremoteforamazonfiretvfiretvstick/b00...</td>\n",
       "      <td>...</td>\n",
       "      <td>remote did not activate nor did it connect to ...</td>\n",
       "      <td>replacing an even worse remote. Waste of time</td>\n",
       "      <td>NaN</td>\n",
       "      <td>NaN</td>\n",
       "      <td>Amazon Customer</td>\n",
       "      <td>NaN</td>\n",
       "      <td>NaN</td>\n",
       "      <td>4 ounces</td>\n",
       "      <td>55</td>\n",
       "      <td>54</td>\n",
       "    </tr>\n",
       "    <tr>\n",
       "      <th>1595</th>\n",
       "      <td>AVpfo9ukilAPnD_xfhuj</td>\n",
       "      <td>B00NO8JJZW</td>\n",
       "      <td>Amazon</td>\n",
       "      <td>Amazon Devices &amp; Accessories,Amazon Device Acc...</td>\n",
       "      <td>NaN</td>\n",
       "      <td>2016-04-02T14:40:43Z</td>\n",
       "      <td>2017-08-13T08:28:46Z</td>\n",
       "      <td>NaN</td>\n",
       "      <td>NaN</td>\n",
       "      <td>alexavoiceremoteforamazonfiretvfiretvstick/b00...</td>\n",
       "      <td>...</td>\n",
       "      <td>it does the job but is super over priced i fee...</td>\n",
       "      <td>Overpriced</td>\n",
       "      <td>NaN</td>\n",
       "      <td>NaN</td>\n",
       "      <td>Meg Ashley</td>\n",
       "      <td>NaN</td>\n",
       "      <td>NaN</td>\n",
       "      <td>4 ounces</td>\n",
       "      <td>948</td>\n",
       "      <td>54</td>\n",
       "    </tr>\n",
       "    <tr>\n",
       "      <th>1596</th>\n",
       "      <td>AVpfo9ukilAPnD_xfhuj</td>\n",
       "      <td>B00NO8JJZW</td>\n",
       "      <td>Amazon</td>\n",
       "      <td>Amazon Devices &amp; Accessories,Amazon Device Acc...</td>\n",
       "      <td>NaN</td>\n",
       "      <td>2016-04-02T14:40:43Z</td>\n",
       "      <td>2017-08-13T08:28:46Z</td>\n",
       "      <td>NaN</td>\n",
       "      <td>NaN</td>\n",
       "      <td>alexavoiceremoteforamazonfiretvfiretvstick/b00...</td>\n",
       "      <td>...</td>\n",
       "      <td>i ordered this item to replace the one that no...</td>\n",
       "      <td>I am sending all of this crap back to amazon a...</td>\n",
       "      <td>NaN</td>\n",
       "      <td>NaN</td>\n",
       "      <td>DIANE K</td>\n",
       "      <td>NaN</td>\n",
       "      <td>NaN</td>\n",
       "      <td>4 ounces</td>\n",
       "      <td>949</td>\n",
       "      <td>54</td>\n",
       "    </tr>\n",
       "  </tbody>\n",
       "</table>\n",
       "<p>1580 rows × 29 columns</p>\n",
       "</div>"
      ],
      "text/plain": [
       "                        id       asins   brand  \\\n",
       "0     AVpe7AsMilAPnD_xQ78G  B00QJDU3KY  Amazon   \n",
       "1     AVpe7AsMilAPnD_xQ78G  B00QJDU3KY  Amazon   \n",
       "2     AVpe7AsMilAPnD_xQ78G  B00QJDU3KY  Amazon   \n",
       "3     AVpe7AsMilAPnD_xQ78G  B00QJDU3KY  Amazon   \n",
       "4     AVpe7AsMilAPnD_xQ78G  B00QJDU3KY  Amazon   \n",
       "...                    ...         ...     ...   \n",
       "1592  AVpfo9ukilAPnD_xfhuj  B00NO8JJZW  Amazon   \n",
       "1593  AVpfo9ukilAPnD_xfhuj  B00NO8JJZW  Amazon   \n",
       "1594  AVpfo9ukilAPnD_xfhuj  B00NO8JJZW  Amazon   \n",
       "1595  AVpfo9ukilAPnD_xfhuj  B00NO8JJZW  Amazon   \n",
       "1596  AVpfo9ukilAPnD_xfhuj  B00NO8JJZW  Amazon   \n",
       "\n",
       "                                             categories colors  \\\n",
       "0                            Amazon Devices,mazon.co.uk    NaN   \n",
       "1                            Amazon Devices,mazon.co.uk    NaN   \n",
       "2                            Amazon Devices,mazon.co.uk    NaN   \n",
       "3                            Amazon Devices,mazon.co.uk    NaN   \n",
       "4                            Amazon Devices,mazon.co.uk    NaN   \n",
       "...                                                 ...    ...   \n",
       "1592  Amazon Devices & Accessories,Amazon Device Acc...    NaN   \n",
       "1593  Amazon Devices & Accessories,Amazon Device Acc...    NaN   \n",
       "1594  Amazon Devices & Accessories,Amazon Device Acc...    NaN   \n",
       "1595  Amazon Devices & Accessories,Amazon Device Acc...    NaN   \n",
       "1596  Amazon Devices & Accessories,Amazon Device Acc...    NaN   \n",
       "\n",
       "                 dateAdded           dateUpdated                 dimension  \\\n",
       "0     2016-03-08T20:21:53Z  2017-07-18T23:52:58Z  169 mm x 117 mm x 9.1 mm   \n",
       "1     2016-03-08T20:21:53Z  2017-07-18T23:52:58Z  169 mm x 117 mm x 9.1 mm   \n",
       "2     2016-03-08T20:21:53Z  2017-07-18T23:52:58Z  169 mm x 117 mm x 9.1 mm   \n",
       "3     2016-03-08T20:21:53Z  2017-07-18T23:52:58Z  169 mm x 117 mm x 9.1 mm   \n",
       "4     2016-03-08T20:21:53Z  2017-07-18T23:52:58Z  169 mm x 117 mm x 9.1 mm   \n",
       "...                    ...                   ...                       ...   \n",
       "1592  2016-04-02T14:40:43Z  2017-08-13T08:28:46Z                       NaN   \n",
       "1593  2016-04-02T14:40:43Z  2017-08-13T08:28:46Z                       NaN   \n",
       "1594  2016-04-02T14:40:43Z  2017-08-13T08:28:46Z                       NaN   \n",
       "1595  2016-04-02T14:40:43Z  2017-08-13T08:28:46Z                       NaN   \n",
       "1596  2016-04-02T14:40:43Z  2017-08-13T08:28:46Z                       NaN   \n",
       "\n",
       "      ean                                               keys  ...  \\\n",
       "0     NaN                        kindlepaperwhite/b00qjdu3ky  ...   \n",
       "1     NaN                        kindlepaperwhite/b00qjdu3ky  ...   \n",
       "2     NaN                        kindlepaperwhite/b00qjdu3ky  ...   \n",
       "3     NaN                        kindlepaperwhite/b00qjdu3ky  ...   \n",
       "4     NaN                        kindlepaperwhite/b00qjdu3ky  ...   \n",
       "...   ...                                                ...  ...   \n",
       "1592  NaN  alexavoiceremoteforamazonfiretvfiretvstick/b00...  ...   \n",
       "1593  NaN  alexavoiceremoteforamazonfiretvfiretvstick/b00...  ...   \n",
       "1594  NaN  alexavoiceremoteforamazonfiretvfiretvstick/b00...  ...   \n",
       "1595  NaN  alexavoiceremoteforamazonfiretvfiretvstick/b00...  ...   \n",
       "1596  NaN  alexavoiceremoteforamazonfiretvfiretvstick/b00...  ...   \n",
       "\n",
       "                                           reviews.text  \\\n",
       "0     i initially had trouble deciding between the p...   \n",
       "1     allow me to preface this with a little history...   \n",
       "2     i am enjoying it so far great for reading had ...   \n",
       "3     i bought one of the first paperwhites and have...   \n",
       "4     i have to say upfront  i dont like coroporate ...   \n",
       "...                                                 ...   \n",
       "1592  this is not the same remote that i got for my ...   \n",
       "1593  i have had to change the batteries in this rem...   \n",
       "1594  remote did not activate nor did it connect to ...   \n",
       "1595  it does the job but is super over priced i fee...   \n",
       "1596  i ordered this item to replace the one that no...   \n",
       "\n",
       "                                          reviews.title reviews.userCity  \\\n",
       "0                        Paperwhite voyage, no regrets!              NaN   \n",
       "1                     One Simply Could Not Ask For More              NaN   \n",
       "2            Great for those that just want an e-reader              NaN   \n",
       "3                              Love / Hate relationship              NaN   \n",
       "4                                             I LOVE IT              NaN   \n",
       "...                                                 ...              ...   \n",
       "1592  I would be disappointed with myself if i produ...              NaN   \n",
       "1593                        Battery draining remote!!!!              NaN   \n",
       "1594      replacing an even worse remote. Waste of time              NaN   \n",
       "1595                                         Overpriced              NaN   \n",
       "1596  I am sending all of this crap back to amazon a...              NaN   \n",
       "\n",
       "     reviews.userProvince    reviews.username sizes  upc     weight user_id  \\\n",
       "0                     NaN          Cristina M   NaN  NaN  205 grams       1   \n",
       "1                     NaN               Ricky   NaN  NaN  205 grams       2   \n",
       "2                     NaN       Tedd Gardiner   NaN  NaN  205 grams       3   \n",
       "3                     NaN              Dougal   NaN  NaN  205 grams       4   \n",
       "4                     NaN  Miljan David Tanic   NaN  NaN  205 grams       5   \n",
       "...                   ...                 ...   ...  ...        ...     ...   \n",
       "1592                  NaN     GregAmandawith4   NaN  NaN   4 ounces     947   \n",
       "1593                  NaN     Amazon Customer   NaN  NaN   4 ounces      55   \n",
       "1594                  NaN     Amazon Customer   NaN  NaN   4 ounces      55   \n",
       "1595                  NaN          Meg Ashley   NaN  NaN   4 ounces     948   \n",
       "1596                  NaN             DIANE K   NaN  NaN   4 ounces     949   \n",
       "\n",
       "     product_id  \n",
       "0             1  \n",
       "1             1  \n",
       "2             1  \n",
       "3             1  \n",
       "4             1  \n",
       "...         ...  \n",
       "1592         54  \n",
       "1593         54  \n",
       "1594         54  \n",
       "1595         54  \n",
       "1596         54  \n",
       "\n",
       "[1580 rows x 29 columns]"
      ]
     },
     "execution_count": 79,
     "metadata": {},
     "output_type": "execute_result"
    }
   ],
   "source": [
    "df"
   ]
  },
  {
   "cell_type": "code",
   "execution_count": 80,
   "metadata": {},
   "outputs": [
    {
     "name": "stdout",
     "output_type": "stream",
     "text": [
      "Total number of unique products: 54\n"
     ]
    }
   ],
   "source": [
    "# Finding the total number of unique products\n",
    "total_products_b = df['product_id'].nunique()\n",
    "print(f\"Total number of unique products: {total_products_b}\")"
   ]
  },
  {
   "cell_type": "code",
   "execution_count": 81,
   "metadata": {},
   "outputs": [],
   "source": [
    "#filtering the products with reviews less than 5 to prevent distortation\n",
    "min_review=5\n",
    "#this series contains number of reviews for each product\n",
    "product_count=df['product_id'].value_counts()\n",
    "#then it is compared to see it has minimum review threshold and it is stored\n",
    "filtered_product=product_count[product_count >= min_review].index\n",
    "#the products which have the review threshold are now compared to the dataframe\n",
    "#product id's \n",
    "df_filtered=df[df['product_id'].isin(filtered_product)]"
   ]
  },
  {
   "cell_type": "code",
   "execution_count": 82,
   "metadata": {},
   "outputs": [],
   "source": [
    "#above we are removing the  products which have total min reviews as 5"
   ]
  },
  {
   "cell_type": "code",
   "execution_count": 83,
   "metadata": {},
   "outputs": [],
   "source": [
    "#now we are filtering the users who interacted with min 2 products\n",
    "#thus further refining our user item matrix\n",
    "#this gives the number of products user has interacted with\n",
    "user_counts_1=df_filtered['user_id'].value_counts()\n",
    "#filter out the user_id which do not satisfy the condition \n",
    "#the ones which do we store their indices \n",
    "users_to_keep_1=user_counts_1[user_counts_1>=2].index\n",
    "#compare with all the user_id and remove the ones which do not satisfy the condition\n",
    "df_filtered_updated=df_filtered[df_filtered['user_id'].isin(users_to_keep_1)]"
   ]
  },
  {
   "cell_type": "code",
   "execution_count": 84,
   "metadata": {},
   "outputs": [
    {
     "name": "stdout",
     "output_type": "stream",
     "text": [
      "                     id       asins   brand                  categories  \\\n",
      "0  AVpe7AsMilAPnD_xQ78G  B00QJDU3KY  Amazon  Amazon Devices,mazon.co.uk   \n",
      "1  AVpe7AsMilAPnD_xQ78G  B00QJDU3KY  Amazon  Amazon Devices,mazon.co.uk   \n",
      "2  AVpe7AsMilAPnD_xQ78G  B00QJDU3KY  Amazon  Amazon Devices,mazon.co.uk   \n",
      "6  AVpe7AsMilAPnD_xQ78G  B00QJDU3KY  Amazon  Amazon Devices,mazon.co.uk   \n",
      "8  AVpe7AsMilAPnD_xQ78G  B00QJDU3KY  Amazon  Amazon Devices,mazon.co.uk   \n",
      "\n",
      "  colors             dateAdded           dateUpdated  \\\n",
      "0    NaN  2016-03-08T20:21:53Z  2017-07-18T23:52:58Z   \n",
      "1    NaN  2016-03-08T20:21:53Z  2017-07-18T23:52:58Z   \n",
      "2    NaN  2016-03-08T20:21:53Z  2017-07-18T23:52:58Z   \n",
      "6    NaN  2016-03-08T20:21:53Z  2017-07-18T23:52:58Z   \n",
      "8    NaN  2016-03-08T20:21:53Z  2017-07-18T23:52:58Z   \n",
      "\n",
      "                  dimension  ean                         keys  ...  \\\n",
      "0  169 mm x 117 mm x 9.1 mm  NaN  kindlepaperwhite/b00qjdu3ky  ...   \n",
      "1  169 mm x 117 mm x 9.1 mm  NaN  kindlepaperwhite/b00qjdu3ky  ...   \n",
      "2  169 mm x 117 mm x 9.1 mm  NaN  kindlepaperwhite/b00qjdu3ky  ...   \n",
      "6  169 mm x 117 mm x 9.1 mm  NaN  kindlepaperwhite/b00qjdu3ky  ...   \n",
      "8  169 mm x 117 mm x 9.1 mm  NaN  kindlepaperwhite/b00qjdu3ky  ...   \n",
      "\n",
      "                                        reviews.text  \\\n",
      "0  i initially had trouble deciding between the p...   \n",
      "1  allow me to preface this with a little history...   \n",
      "2  i am enjoying it so far great for reading had ...   \n",
      "6  allow me to preface this with a little history...   \n",
      "8  i initially had trouble deciding between the p...   \n",
      "\n",
      "                                       reviews.title reviews.userCity  \\\n",
      "0                     Paperwhite voyage, no regrets!              NaN   \n",
      "1                  One Simply Could Not Ask For More              NaN   \n",
      "2         Great for those that just want an e-reader              NaN   \n",
      "6  One Simply Could Not Ask For More 28 people fo...              NaN   \n",
      "8  Paperwhite voyage, no regrets! 16 people found...              NaN   \n",
      "\n",
      "  reviews.userProvince reviews.username sizes  upc     weight user_id  \\\n",
      "0                  NaN       Cristina M   NaN  NaN  205 grams       1   \n",
      "1                  NaN            Ricky   NaN  NaN  205 grams       2   \n",
      "2                  NaN    Tedd Gardiner   NaN  NaN  205 grams       3   \n",
      "6                  NaN            Ricky   NaN  NaN  205 grams       2   \n",
      "8                  NaN       Cristina M   NaN  NaN  205 grams       1   \n",
      "\n",
      "  product_id  \n",
      "0          1  \n",
      "1          1  \n",
      "2          1  \n",
      "6          1  \n",
      "8          1  \n",
      "\n",
      "[5 rows x 29 columns]\n",
      "(687, 29)\n"
     ]
    }
   ],
   "source": [
    "print(df_filtered_updated.head())\n",
    "print(df_filtered_updated.shape)"
   ]
  },
  {
   "cell_type": "code",
   "execution_count": 85,
   "metadata": {},
   "outputs": [
    {
     "name": "stdout",
     "output_type": "stream",
     "text": [
      "Total number of unique products after filtering: 35\n"
     ]
    }
   ],
   "source": [
    "# Finding the total number of unique products after filtering\n",
    "total_products_after = df_filtered_updated['product_id'].nunique()\n",
    "print(f\"Total number of unique products after filtering: {total_products_after}\")"
   ]
  },
  {
   "cell_type": "code",
   "execution_count": 86,
   "metadata": {},
   "outputs": [
    {
     "data": {
      "text/plain": [
       "Index([ 1,  2,  3,  4,  5,  6,  7,  9, 15, 16, 17, 18, 24, 26, 27, 28, 29, 30,\n",
       "       32, 33, 34, 35, 38, 39, 40, 41, 43, 45, 47, 48, 49, 51, 52, 53, 54],\n",
       "      dtype='int64', name='product_id')"
      ]
     },
     "execution_count": 86,
     "metadata": {},
     "output_type": "execute_result"
    }
   ],
   "source": [
    "#user item matrix\n",
    "#it is a pandas dataframe\n",
    "user_item_matrix=df_filtered_updated.pivot_table(index='user_id',columns='product_id',values='reviews.rating')\n",
    "user_item_matrix.columns"
   ]
  },
  {
   "cell_type": "code",
   "execution_count": 87,
   "metadata": {},
   "outputs": [
    {
     "name": "stdout",
     "output_type": "stream",
     "text": [
      "product_id   1    2   3   4   5   6   7   9   15  16  ...  41  43  45  47  48  \\\n",
      "user_id                                               ...                       \n",
      "1           5.0  NaN NaN NaN NaN NaN NaN NaN NaN NaN  ... NaN NaN NaN NaN NaN   \n",
      "2           5.0  NaN NaN NaN NaN NaN NaN NaN NaN NaN  ... NaN NaN NaN NaN NaN   \n",
      "3           4.0  NaN NaN NaN NaN NaN NaN NaN NaN NaN  ... NaN NaN NaN NaN NaN   \n",
      "20          NaN  3.0 NaN NaN NaN NaN NaN NaN NaN NaN  ... NaN NaN NaN NaN NaN   \n",
      "21          NaN  4.0 NaN NaN NaN NaN NaN NaN NaN NaN  ... NaN NaN NaN NaN NaN   \n",
      "...         ...  ...  ..  ..  ..  ..  ..  ..  ..  ..  ...  ..  ..  ..  ..  ..   \n",
      "916         NaN  NaN NaN NaN NaN NaN NaN NaN NaN NaN  ... NaN NaN NaN NaN NaN   \n",
      "917         NaN  NaN NaN NaN NaN NaN NaN NaN NaN NaN  ... NaN NaN NaN NaN NaN   \n",
      "921         NaN  NaN NaN NaN NaN NaN NaN NaN NaN NaN  ... NaN NaN NaN NaN NaN   \n",
      "923         NaN  NaN NaN NaN NaN NaN NaN NaN NaN NaN  ... NaN NaN NaN NaN NaN   \n",
      "924         NaN  NaN NaN NaN NaN NaN NaN NaN NaN NaN  ... NaN NaN NaN NaN NaN   \n",
      "\n",
      "product_id  49   51   52  53  54  \n",
      "user_id                           \n",
      "1          NaN  NaN  NaN NaN NaN  \n",
      "2          NaN  NaN  NaN NaN NaN  \n",
      "3          NaN  NaN  NaN NaN NaN  \n",
      "20         NaN  NaN  NaN NaN NaN  \n",
      "21         NaN  NaN  NaN NaN NaN  \n",
      "...         ..  ...  ...  ..  ..  \n",
      "916        NaN  4.0  NaN NaN NaN  \n",
      "917        NaN  2.0  NaN NaN NaN  \n",
      "921        NaN  NaN  3.0 NaN NaN  \n",
      "923        NaN  NaN  5.0 NaN NaN  \n",
      "924        NaN  NaN  5.0 NaN NaN  \n",
      "\n",
      "[89 rows x 35 columns]\n"
     ]
    }
   ],
   "source": [
    "print(user_item_matrix)"
   ]
  },
  {
   "cell_type": "code",
   "execution_count": 88,
   "metadata": {},
   "outputs": [],
   "source": [
    "#SVD model will train and test on the ratings that are given\n",
    "#removing rows where ratings are not given\n",
    "df_given_ratings=df.dropna(subset=['reviews.rating'])\n"
   ]
  },
  {
   "cell_type": "code",
   "execution_count": 89,
   "metadata": {},
   "outputs": [],
   "source": [
    "#SVD as cosine similarity cannot take NaN values\n",
    "#Fill NaN values with 0 approach should be avoided\n",
    "#as users who did not rate will be treated as dislike(0) which may skew data\n",
    "reader=Reader(rating_scale=(1,5))\n",
    "data=Dataset.load_from_df(df_given_ratings[['user_id','product_id','reviews.rating']],reader)\n",
    "#splitting the data into training and testing sets\n",
    "train_set,test_set=train_test_split(data,test_size=0.2)\n"
   ]
  },
  {
   "cell_type": "code",
   "execution_count": 90,
   "metadata": {},
   "outputs": [
    {
     "name": "stdout",
     "output_type": "stream",
     "text": [
      "RMSE: 0.7897\n"
     ]
    },
    {
     "data": {
      "text/plain": [
       "0.789724280473784"
      ]
     },
     "execution_count": 90,
     "metadata": {},
     "output_type": "execute_result"
    }
   ],
   "source": [
    "#applying the SVD\n",
    "svd=SVD()\n",
    "svd.fit(train_set)\n",
    "#making predictions on the test set\n",
    "prediction_svd=svd.test(test_set)\n",
    "#measuring the accuracy of predictiions\n",
    "accuracy.rmse(prediction_svd)\n",
    "\n"
   ]
  },
  {
   "cell_type": "code",
   "execution_count": 91,
   "metadata": {},
   "outputs": [],
   "source": [
    "#now we are using another method KNNBasic to predict the missing values\n",
    "sim_options={\n",
    "    'name': 'cosine', 'user_based': False\n",
    "}"
   ]
  },
  {
   "cell_type": "code",
   "execution_count": 92,
   "metadata": {},
   "outputs": [],
   "source": [
    "#randomized search will take care of parameters\n",
    "knnb=KNNBasic(sim_options=sim_options) "
   ]
  },
  {
   "cell_type": "code",
   "execution_count": 93,
   "metadata": {},
   "outputs": [],
   "source": [
    "#parameter grid for hypertuning\n",
    "param_grid={\n",
    "    'k':[10,20,30,40],\n",
    "    'k_min':[1,2,3,4]\n",
    "}"
   ]
  },
  {
   "cell_type": "code",
   "execution_count": 94,
   "metadata": {},
   "outputs": [],
   "source": [
    "#the algo uses KFolds internally for consistent splits\n",
    "#applying the 'randomized search CV ' of the surprise library here\n",
    "random_state=RandomizedSearchCV(algo_class=knnb,param_distributions=param_grid,n_iter=10,measures=['rmse','mae'],cv =3,refit=True,n_jobs=-1,random_state=0)"
   ]
  },
  {
   "cell_type": "code",
   "execution_count": 95,
   "metadata": {},
   "outputs": [
    {
     "name": "stdout",
     "output_type": "stream",
     "text": [
      "Computing the cosine similarity matrix...\n",
      "Done computing similarity matrix.\n",
      "RMSE: 0.8227\n"
     ]
    },
    {
     "data": {
      "text/plain": [
       "0.8226869415471101"
      ]
     },
     "execution_count": 95,
     "metadata": {},
     "output_type": "execute_result"
    }
   ],
   "source": [
    "#training the model\n",
    "knnb.fit(train_set)\n",
    "#making predictions\n",
    "prediction_knnb=knnb.test(test_set)\n",
    "#measuring the accuracy\n",
    "accuracy.rmse(prediction_knnb)"
   ]
  },
  {
   "cell_type": "code",
   "execution_count": 96,
   "metadata": {},
   "outputs": [],
   "source": [
    "user_item_matrix_knnb=user_item_matrix.copy()\n",
    "#now we will fill the missing values using KNNBasic\n",
    "for user_id in user_item_matrix_knnb.index:\n",
    "    for product_id in user_item_matrix_knnb.columns:\n",
    "        if pd.isna(user_item_matrix_knnb.loc[user_id,product_id]):\n",
    "            answer_knnb=knnb.predict(user_id,product_id)\n",
    "            user_item_matrix_knnb.loc[user_id,product_id]=answer_knnb.est\n"
   ]
  },
  {
   "cell_type": "code",
   "execution_count": 97,
   "metadata": {},
   "outputs": [],
   "source": [
    "#now we will fill the missing values using the trained SVD\n",
    "for user_id in user_item_matrix.index:\n",
    "    for product_id in user_item_matrix.columns:\n",
    "        if pd.isna(user_item_matrix.loc[user_id,product_id]):\n",
    "            answer=svd.predict(user_id,product_id)\n",
    "            user_item_matrix.loc[user_id,product_id]=answer.est\n",
    "    "
   ]
  },
  {
   "cell_type": "code",
   "execution_count": 98,
   "metadata": {},
   "outputs": [
    {
     "name": "stdout",
     "output_type": "stream",
     "text": [
      "product_id        1         2         3         4         5         6   \\\n",
      "user_id                                                                  \n",
      "1           5.000000  4.239251  4.332310  4.695732  4.366639  3.918984   \n",
      "2           5.000000  4.372334  4.580502  4.691581  4.287791  4.272024   \n",
      "3           4.000000  4.225780  4.311077  4.606599  4.406575  4.062884   \n",
      "20          4.595056  3.000000  4.026004  4.346864  4.190470  3.612416   \n",
      "21          4.548415  4.000000  4.430592  4.575061  4.718044  3.810175   \n",
      "\n",
      "product_id        7         9         15        16  ...        41        43  \\\n",
      "user_id                                             ...                       \n",
      "1           3.951949  4.465769  4.436240  4.406572  ...  4.352758  4.355917   \n",
      "2           4.026141  4.505114  4.427886  4.392223  ...  4.310804  4.461935   \n",
      "3           3.932125  4.522237  4.312283  4.224234  ...  4.151134  4.379445   \n",
      "20          4.021961  4.095845  4.166860  4.020648  ...  4.159878  4.100483   \n",
      "21          3.999291  4.381258  4.270055  4.270218  ...  4.290519  4.589556   \n",
      "\n",
      "product_id        45        47        48        49        51        52  \\\n",
      "user_id                                                                  \n",
      "1           4.508481  4.253959  4.515018  3.534221  4.191833  4.567864   \n",
      "2           4.581721  4.361668  4.741265  3.583888  4.107207  4.271497   \n",
      "3           4.358982  4.307236  4.343144  3.672669  4.427420  4.242228   \n",
      "20          4.385335  3.994237  4.170762  3.534083  3.746258  4.201887   \n",
      "21          4.447050  4.364397  4.387026  3.380461  4.215434  4.328112   \n",
      "\n",
      "product_id        53        54  \n",
      "user_id                         \n",
      "1           3.113513  3.184607  \n",
      "2           2.996408  3.331368  \n",
      "3           2.792063  3.066853  \n",
      "20          2.891717  3.053368  \n",
      "21          2.898036  3.136953  \n",
      "\n",
      "[5 rows x 35 columns]\n"
     ]
    }
   ],
   "source": [
    "print(user_item_matrix.head())"
   ]
  },
  {
   "cell_type": "code",
   "execution_count": 99,
   "metadata": {},
   "outputs": [
    {
     "name": "stdout",
     "output_type": "stream",
     "text": [
      "product_id        1         2         3         4         5         6   \\\n",
      "user_id                                                                  \n",
      "1           5.000000  4.335813  4.335813  4.335813  4.335813  4.335813   \n",
      "2           5.000000  4.335813  4.335813  4.335813  4.335813  4.335813   \n",
      "3           4.000000  4.335813  4.335813  4.335813  4.335813  4.335813   \n",
      "20          4.335813  3.000000  4.335813  4.335813  4.335813  4.335813   \n",
      "21          4.335813  4.000000  4.335813  4.335813  4.335813  4.335813   \n",
      "...              ...       ...       ...       ...       ...       ...   \n",
      "916         4.335813  4.335813  4.335813  4.335813  4.335813  4.335813   \n",
      "917         4.335813  4.335813  4.335813  4.335813  4.335813  4.335813   \n",
      "921         4.335813  4.335813  4.335813  4.335813  4.335813  4.335813   \n",
      "923         4.335813  4.335813  4.335813  4.335813  4.335813  4.335813   \n",
      "924         4.335813  4.335813  4.335813  4.335813  4.335813  4.335813   \n",
      "\n",
      "product_id        7         9         15        16  ...        41        43  \\\n",
      "user_id                                             ...                       \n",
      "1           4.335813  4.335813  4.335813  4.335813  ...  4.335813  4.335813   \n",
      "2           4.335813  4.335813  4.335813  4.335813  ...  4.335813  4.335813   \n",
      "3           4.335813  4.335813  4.335813  4.335813  ...  4.335813  4.335813   \n",
      "20          4.335813  4.335813  4.335813  4.335813  ...  4.335813  4.335813   \n",
      "21          4.335813  4.335813  4.335813  4.335813  ...  4.335813  4.335813   \n",
      "...              ...       ...       ...       ...  ...       ...       ...   \n",
      "916         4.335813  4.335813  4.335813  4.335813  ...  4.335813  4.335813   \n",
      "917         4.335813  4.335813  4.335813  4.335813  ...  4.335813  4.335813   \n",
      "921         4.335813  4.335813  4.335813  4.335813  ...  4.335813  4.335813   \n",
      "923         4.335813  4.335813  4.335813  4.335813  ...  4.335813  4.335813   \n",
      "924         4.335813  4.335813  4.335813  4.335813  ...  4.335813  4.335813   \n",
      "\n",
      "product_id        45        47        48        49        51        52  \\\n",
      "user_id                                                                  \n",
      "1           4.335813  4.335813  4.335813  4.335813  4.335813  4.335813   \n",
      "2           4.335813  4.335813  4.335813  4.335813  4.335813  4.335813   \n",
      "3           4.335813  4.335813  4.335813  4.335813  4.335813  4.335813   \n",
      "20          4.335813  4.335813  4.335813  4.335813  4.335813  4.335813   \n",
      "21          4.335813  4.335813  4.335813  4.335813  4.335813  4.335813   \n",
      "...              ...       ...       ...       ...       ...       ...   \n",
      "916         4.335813  4.335813  4.335813  4.335813  4.000000  4.335813   \n",
      "917         4.335813  4.335813  4.335813  4.335813  2.000000  4.335813   \n",
      "921         4.335813  4.335813  4.335813  4.335813  4.335813  3.000000   \n",
      "923         4.335813  4.335813  4.335813  4.335813  4.335813  5.000000   \n",
      "924         4.335813  4.335813  4.335813  4.335813  4.335813  5.000000   \n",
      "\n",
      "product_id        53        54  \n",
      "user_id                         \n",
      "1           4.335813  4.335813  \n",
      "2           4.335813  4.335813  \n",
      "3           4.335813  4.335813  \n",
      "20          4.335813  4.335813  \n",
      "21          4.335813  4.335813  \n",
      "...              ...       ...  \n",
      "916         4.335813  4.335813  \n",
      "917         4.335813  4.335813  \n",
      "921         4.335813  4.335813  \n",
      "923         4.335813  4.335813  \n",
      "924         4.335813  4.335813  \n",
      "\n",
      "[89 rows x 35 columns]\n"
     ]
    }
   ],
   "source": [
    "print(user_item_matrix_knnb)"
   ]
  },
  {
   "cell_type": "code",
   "execution_count": 100,
   "metadata": {},
   "outputs": [
    {
     "name": "stdout",
     "output_type": "stream",
     "text": [
      "[[1.         0.99883162 0.99924952 ... 0.99890789 0.99746787 0.99764957]\n",
      " [0.99883162 1.         0.99915987 ... 0.99873692 0.99658316 0.99690601]\n",
      " [0.99924952 0.99915987 1.         ... 0.99852736 0.9963696  0.99679269]\n",
      " ...\n",
      " [0.99890789 0.99873692 0.99852736 ... 1.         0.99696598 0.99727588]\n",
      " [0.99746787 0.99658316 0.9963696  ... 0.99696598 1.         0.99883954]\n",
      " [0.99764957 0.99690601 0.99679269 ... 0.99727588 0.99883954 1.        ]]\n"
     ]
    }
   ],
   "source": [
    "#Created based on SVD\n",
    "#now creating the cosine similarity matrix for collaborative filtering\n",
    "#it is item based as we are recommending products or items \n",
    "cosine_item_similarity_svd = cosine_similarity(user_item_matrix.T)\n",
    "print(cosine_item_similarity_svd)"
   ]
  },
  {
   "cell_type": "code",
   "execution_count": 101,
   "metadata": {},
   "outputs": [
    {
     "name": "stdout",
     "output_type": "stream",
     "text": [
      "[[1.         0.99901621 0.99842016 ... 0.99891187 0.99562839 0.9962559 ]\n",
      " [0.99901621 1.         0.99802789 ... 0.99850623 0.99523284 0.99586455]\n",
      " [0.99842016 0.99802789 1.         ... 0.99792376 0.99464359 0.99527051]\n",
      " ...\n",
      " [0.99891187 0.99850623 0.99792376 ... 1.         0.99513119 0.9957606 ]\n",
      " [0.99562839 0.99523284 0.99464359 ... 0.99513119 1.         0.99996721]\n",
      " [0.9962559  0.99586455 0.99527051 ... 0.9957606  0.99996721 1.        ]]\n"
     ]
    }
   ],
   "source": [
    "cosine_item_similarity_knnb=cosine_similarity(user_item_matrix_knnb.T)\n",
    "print(cosine_item_similarity_knnb)"
   ]
  },
  {
   "cell_type": "code",
   "execution_count": 102,
   "metadata": {},
   "outputs": [
    {
     "name": "stdout",
     "output_type": "stream",
     "text": [
      "<class 'numpy.ndarray'>\n"
     ]
    },
    {
     "data": {
      "text/plain": [
       "0"
      ]
     },
     "execution_count": 102,
     "metadata": {},
     "output_type": "execute_result"
    }
   ],
   "source": [
    "print(type(cosine_item_similarity_svd))\n",
    "df_filtered.duplicated().sum()"
   ]
  },
  {
   "cell_type": "code",
   "execution_count": 103,
   "metadata": {},
   "outputs": [],
   "source": [
    "def get_collab_recommendation(product_id, cosine_item_similarity,user_item_matrix,top_r):\n",
    "    recommendations={}\n",
    "    #checking if the product id exists or not5\n",
    "    if product_id not in user_item_matrix.columns:\n",
    "        recommendations['1']=('Product {product_id} not found')\n",
    "    else:\n",
    "        #find out the product index \n",
    "        #we are finding 5this as numpy array can only be accessed by index positions\n",
    "        product_index=user_item_matrix.columns.get_loc(product_id)\n",
    "        #getting the similarity scores \n",
    "        product_similarity=cosine_item_similarity[product_index]\n",
    "        #sorting in descending order\n",
    "        product_similarity_sorted=np.argsort(product_similarity)[::-1]\n",
    "        #removing the product itself and keeping the recommended products\n",
    "        product_similarity_sorted=product_similarity_sorted[1:top_r+1]\n",
    "        #map the indices with the product id\n",
    "    for i in product_similarity_sorted:\n",
    "        product_id_similar=user_item_matrix.columns[i]\n",
    "        similarity_score=product_similarity[i]\n",
    "        recommendations[product_id_similar]=similarity_score\n",
    "    return recommendations"
   ]
  },
  {
   "cell_type": "code",
   "execution_count": 104,
   "metadata": {},
   "outputs": [
    {
     "name": "stdout",
     "output_type": "stream",
     "text": [
      "34 : 0.9989561575992372\n",
      "45 : 0.9989095832693934\n",
      "26 : 0.9988980701383504\n",
      "9 : 0.9988969712291595\n",
      "38 : 0.998893054885653\n"
     ]
    }
   ],
   "source": [
    "#we are putting the product id label directly here\n",
    "#if label not correct , it will give error\n",
    "top_r=5\n",
    "b=int(input('Enter the Product ID for SVD approach'))\n",
    "recommedations=get_collab_recommendation(b,cosine_item_similarity_svd,user_item_matrix,top_r)\n",
    "for k,v in recommedations.items():\n",
    "    print(f'{k} : {v}')"
   ]
  },
  {
   "cell_type": "code",
   "execution_count": 105,
   "metadata": {},
   "outputs": [
    {
     "name": "stdout",
     "output_type": "stream",
     "text": [
      "47 : 0.9997065802767372\n",
      "9 : 0.9990069206536455\n",
      "35 : 0.99897669754394\n",
      "24 : 0.9989766975439399\n",
      "29 : 0.9989394715293237\n"
     ]
    }
   ],
   "source": [
    "top_r=5\n",
    "c=int(input('Enter the product ID for KNN Basic approach'))\n",
    "recommedations_knnb=get_collab_recommendation(c,cosine_item_similarity_knnb,user_item_matrix_knnb,top_r)\n",
    "for k,v in recommedations_knnb.items():\n",
    "    print(f'{k} : {v}')"
   ]
  },
  {
   "cell_type": "code",
   "execution_count": 106,
   "metadata": {},
   "outputs": [],
   "source": [
    "#here what we are basically doing is if a user has given rating on some\n",
    "#product we recommend similar products to him based on the similarity of \n",
    "#the other products which is found by the cosine similarity matrix.\n",
    "#missing ratings are filled by svd and the input is the product id label\n",
    "#to my future self to not forget 😅 "
   ]
  },
  {
   "cell_type": "code",
   "execution_count": 107,
   "metadata": {},
   "outputs": [
    {
     "data": {
      "text/plain": [
       "(1177, 29)"
      ]
     },
     "execution_count": 107,
     "metadata": {},
     "output_type": "execute_result"
    }
   ],
   "source": [
    "df_given_ratings.shape"
   ]
  },
  {
   "cell_type": "code",
   "execution_count": 108,
   "metadata": {},
   "outputs": [],
   "source": [
    "import pickle\n",
    "\n",
    "# Assuming cosine_item_similarity_svd and user_item_matrix_svd are your matrices\n",
    "\n",
    "# Export cosine similarity matrix\n",
    "with open('cosine_item_similarity_svd.pkl', 'wb') as file:\n",
    "    pickle.dump(cosine_item_similarity_svd, file)\n",
    "\n",
    "# Export user-item matrix\n",
    "with open('user_item_matrix_svd.pkl', 'wb') as file:\n",
    "    pickle.dump(user_item_matrix, file)\n"
   ]
  }
 ],
 "metadata": {
  "kernelspec": {
   "display_name": "virworld",
   "language": "python",
   "name": "python3"
  },
  "language_info": {
   "codemirror_mode": {
    "name": "ipython",
    "version": 3
   },
   "file_extension": ".py",
   "mimetype": "text/x-python",
   "name": "python",
   "nbconvert_exporter": "python",
   "pygments_lexer": "ipython3",
   "version": "3.12.4"
  }
 },
 "nbformat": 4,
 "nbformat_minor": 2
}
